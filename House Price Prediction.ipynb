{
 "cells": [
  {
   "cell_type": "markdown",
   "id": "01d23aa3-2693-4fd9-a810-014aba768ba5",
   "metadata": {},
   "source": [
    "Task 02: Linear Regression using Simple Dataset – House Price Prediction\n",
    "    \n",
    "Description:\n",
    "\n",
    "In this project, you will predict the price of a house using various features like example number of rooms, size of the house, location and age of the house etc.\n",
    "\n",
    "The goal is to use Linear Regression in Python to build a model that learns the relationship between these features and house prices.\n",
    "\n",
    "Learning skills: Learning of regression analysis, Python, Scikit learn library.\n",
    "\n",
    "Goal. Predict house prices from numeric and categorical features using a scikit-learn pipeline."
   ]
  },
  {
   "cell_type": "code",
   "execution_count": null,
   "id": "5702a92e-c8da-4d2d-85e0-d8fce5edc059",
   "metadata": {},
   "outputs": [],
   "source": []
  }
 ],
 "metadata": {
  "kernelspec": {
   "display_name": "Python (venv)",
   "language": "python",
   "name": "venv"
  },
  "language_info": {
   "codemirror_mode": {
    "name": "ipython",
    "version": 3
   },
   "file_extension": ".py",
   "mimetype": "text/x-python",
   "name": "python",
   "nbconvert_exporter": "python",
   "pygments_lexer": "ipython3",
   "version": "3.12.3"
  }
 },
 "nbformat": 4,
 "nbformat_minor": 5
}
